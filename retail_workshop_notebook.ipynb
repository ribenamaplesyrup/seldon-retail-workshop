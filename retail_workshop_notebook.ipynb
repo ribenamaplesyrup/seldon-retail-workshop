{
 "cells": [
  {
   "cell_type": "code",
   "execution_count": null,
   "metadata": {
    "id": "xlWBX0tNvaAO"
   },
   "outputs": [],
   "source": [
    "### Build intro presentation"
   ]
  },
  {
   "cell_type": "markdown",
   "metadata": {
    "id": "BqU0bqjtRKwu"
   },
   "source": [
    "# Customer Segmentation \n",
    "\n",
    "This notebook will focuss on the creation, deployment, \n",
    "monitoring and management of a machine learning model for performing \n",
    "customer segmentation. We will be using an e-commerce dataset detailing actual purchases made by  ∼ 4000 customers over a period of one year (from 2010/12/01 to 2011/12/09). \n",
    "\n",
    "In this notebook we will: \n",
    "\n",
    "- explore subset of dataset\n",
    "- train several models on pre-processed dataset\n",
    "- deploy trained models to Seldon \n",
    "- train an anchor tabular explainer and update Seldon deployment with explainer\n",
    "- train an outlier detector (variational autoencoder) and drift detector (k-s tests) and update deployment "
   ]
  },
  {
   "cell_type": "markdown",
   "metadata": {
    "id": "JCnrhNBSkOZW"
   },
   "source": [
    "### Prerequisites"
   ]
  },
  {
   "cell_type": "code",
   "execution_count": null,
   "metadata": {
    "id": "hNI8xSiiBd24"
   },
   "outputs": [],
   "source": [
    "!pip install seldon-deploy-sdk\n",
    "!pip install alibi\n",
    "!pip install alibi-detect\n",
    "!pip install fsspec\n",
    "!pip install gcsfs\n",
    "!pip install dill"
   ]
  },
  {
   "cell_type": "code",
   "execution_count": null,
   "metadata": {
    "id": "D9RurRkiZljs"
   },
   "outputs": [],
   "source": [
    "from sklearn import preprocessing, model_selection, metrics, feature_selection\n",
    "from sklearn.svm import SVC\n",
    "from sklearn import neighbors, linear_model, svm, tree, ensemble\n",
    "from sklearn.ensemble import AdaBoostClassifier\n",
    "from sklearn.metrics import confusion_matrix, f1_score\n",
    "from sklearn.metrics import accuracy_score\n",
    "import numpy as np\n",
    "import pickle \n",
    "import joblib\n",
    "import dill\n",
    "import os \n",
    "import matplotlib.pyplot as plt\n",
    "import seaborn as sns\n",
    "import tensorflow as tf\n",
    "import pandas as pd\n",
    "from tensorflow.keras.layers import Dense, InputLayer\n",
    "from alibi.explainers import AnchorTabular\n",
    "from alibi_detect.datasets import fetch_kdd\n",
    "from alibi_detect.models.tensorflow.losses import elbo\n",
    "from alibi_detect.od import OutlierVAE\n",
    "from alibi_detect.cd import TabularDrift\n",
    "from alibi_detect.utils.data import create_outlier_batch\n",
    "from alibi_detect.utils.fetching import fetch_detector\n",
    "from alibi_detect.utils.saving import save_detector, load_detector\n",
    "from alibi_detect.utils.visualize import plot_instance_score, plot_feature_outlier_tabular, plot_roc\n",
    "from seldon_deploy_sdk import Configuration, ApiClient, SeldonDeploymentsApi, OutlierDetectorApi, DriftDetectorApi\n",
    "from seldon_deploy_sdk.auth import OIDCAuthenticator"
   ]
  },
  {
   "cell_type": "markdown",
   "metadata": {
    "id": "Cr6yO693qzfH"
   },
   "source": [
    "Download datasets:"
   ]
  },
  {
   "cell_type": "code",
   "execution_count": null,
   "metadata": {
    "id": "QBYt8NSjqxTl"
   },
   "outputs": [],
   "source": [
    "!gsutil -m cp -r gs://tom-seldon-examples/datareply-workshop/data ."
   ]
  },
  {
   "cell_type": "markdown",
   "metadata": {
    "id": "aX6yZr4FRc3t"
   },
   "source": [
    "### Data Exploration\n",
    "\n",
    "Typically e-commerce datasets are proprietary and consequently hard to find among publicly available data. However, The UCI Machine Learning Repository has curated a retail dataset containing actual transactions from 2010 and 2011. The dataset is maintained on their site, where it can be found by the title \"Online Retail\". The following description is provided via Kaggle: \n",
    "\n",
    "\"This is a transnational data set which contains all the transactions occurring between 01/12/2010 and 09/12/2011 for a UK-based and registered non-store online retail.The company mainly sells unique all-occasion gifts. Many customers of the company are wholesalers.\"\n",
    "\n",
    "We will first explore the dataset and then train models on a pre-processed version of the dataset that was transformed through following the fantastic work of Fabien Daniel whose methods are detailed in this notebook: https://www.kaggle.com/fabiendaniel/customer-segmentation\n",
    "\n",
    "Lets dive in and explore a subset of the dataset:"
   ]
  },
  {
   "cell_type": "code",
   "execution_count": null,
   "metadata": {
    "id": "gOYDKkTIcej4"
   },
   "outputs": [],
   "source": [
    "df_initial = pd.read_csv('data/data.csv', encoding=\"ISO-8859-1\", nrows=3000,\n",
    "                         dtype={'CustomerID': str,'InvoiceID': str})\n",
    "\n",
    "print('Dataframe dimensions:', df_initial.shape)"
   ]
  },
  {
   "cell_type": "code",
   "execution_count": null,
   "metadata": {
    "id": "aI8vVdPwSY0C"
   },
   "outputs": [],
   "source": [
    "df_initial['InvoiceDate'] = pd.to_datetime(df_initial['InvoiceDate'])\n",
    "\n",
    "# gives some infos on columns types and numer of null values\n",
    "tab_info=pd.DataFrame(df_initial.dtypes).T.rename(index={0:'column type'})\n",
    "tab_info=tab_info.append(pd.DataFrame(df_initial.isnull().sum()).T.rename(index={0:'null values (nb)'}))\n",
    "tab_info=tab_info.append(pd.DataFrame(df_initial.isnull().sum()/df_initial.shape[0]*100).T.\n",
    "                         rename(index={0:'null values (%)'}))\n",
    "display(tab_info)\n",
    "\n",
    "# show first lines\n",
    "display(df_initial[:5])"
   ]
  },
  {
   "cell_type": "code",
   "execution_count": null,
   "metadata": {
    "id": "VuUDDnbJkOZZ"
   },
   "outputs": [],
   "source": [
    "### insert explanation of each of the columns ###"
   ]
  },
  {
   "cell_type": "markdown",
   "metadata": {
    "id": "k2nAnRGxkOZZ"
   },
   "source": [
    "We can cluster objects based on keywords contained within their descriptions. We see here that cluster no1 is quite 'gifty' whilst no3 is more 'luxury', although others are a little harder to discern. "
   ]
  },
  {
   "cell_type": "markdown",
   "metadata": {
    "id": "EXd0w4jAkOZa"
   },
   "source": [
    "<img src=\"https://github.com/ribenamaplesyrup/seldon-workshops/blob/main/download.png?raw=1\">"
   ]
  },
  {
   "cell_type": "code",
   "execution_count": null,
   "metadata": {
    "id": "B7HQJpFekOZa"
   },
   "outputs": [],
   "source": [
    "### high level summarise notebook in how we get from the original dataset to the transformed dataset with \n",
    "### product category, mean and customer category features."
   ]
  },
  {
   "cell_type": "markdown",
   "metadata": {
    "id": "8u24c0v7kOZa"
   },
   "source": [
    "- Mean refers to the average amount spent within each invoice. \n",
    "- Each category represents a different category of products and the value is the percentage of total spend within that category across all invoices. "
   ]
  },
  {
   "cell_type": "code",
   "execution_count": null,
   "metadata": {
    "id": "-pOElOiWkOZa"
   },
   "outputs": [],
   "source": [
    "columns = ['mean', 'categ_0', 'categ_1', 'categ_2', 'categ_3', 'categ_4' ] # change to feature_names?\n",
    "class_names = ['0','1','2','3','4','5','6','7','8','9','10']\n",
    "X_train = np.load('data/X_train.npy')\n",
    "Y_train = np.load('data/Y_train.npy')\n",
    "X_test = np.load('data/X_test.npy')\n",
    "Y_test = np.load('data/Y_test.npy')"
   ]
  },
  {
   "cell_type": "code",
   "execution_count": null,
   "metadata": {
    "id": "RoczMYGIkOZb"
   },
   "outputs": [],
   "source": [
    "X_train"
   ]
  },
  {
   "cell_type": "code",
   "execution_count": null,
   "metadata": {
    "id": "A35NghYPkOZb"
   },
   "outputs": [],
   "source": [
    "### figure out the max and min mean - useful for outliers "
   ]
  },
  {
   "cell_type": "markdown",
   "metadata": {
    "id": "ei4WoQXTZtjq"
   },
   "source": [
    "## Model Training\n",
    "\n",
    "In this section we will adjust a classifier that will classify consumers in the different client categories. "
   ]
  },
  {
   "cell_type": "markdown",
   "metadata": {
    "id": "kZXr3-bfcrZr"
   },
   "source": [
    "### Logistic Regression"
   ]
  },
  {
   "cell_type": "code",
   "execution_count": null,
   "metadata": {
    "id": "se7kBpFlcUm1"
   },
   "outputs": [],
   "source": [
    "lr = linear_model.LogisticRegression(max_iter=4000)\n",
    "lr.fit(X_train, Y_train)"
   ]
  },
  {
   "cell_type": "code",
   "execution_count": null,
   "metadata": {
    "id": "r4mLxfzSvvAd"
   },
   "outputs": [],
   "source": [
    "accuracy_score(Y_test, lr.predict(X_test))"
   ]
  },
  {
   "cell_type": "code",
   "execution_count": null,
   "metadata": {
    "id": "a8KbkSIFkOZd"
   },
   "outputs": [],
   "source": [
    "### Add another trained model"
   ]
  },
  {
   "cell_type": "code",
   "execution_count": null,
   "metadata": {
    "id": "rYjuhrLrCDpL"
   },
   "outputs": [],
   "source": [
    "models = ['lr']\n",
    "\n",
    "for model in models:\n",
    "    if not os.path.exists('models/' + model):\n",
    "        os.makedirs('models/' + model)"
   ]
  },
  {
   "cell_type": "code",
   "execution_count": null,
   "metadata": {
    "id": "68IRCKnhddNx"
   },
   "outputs": [],
   "source": [
    "filename = 'models/lr/model.joblib'\n",
    "joblib.dump(lr, filename)"
   ]
  },
  {
   "cell_type": "markdown",
   "metadata": {
    "id": "0zZjwLAlAoXg"
   },
   "source": [
    "### Push model artefacts to GCP\n",
    "\n",
    "To push models to GCP you will create a unique folder with your name. Uncomment the command and replace <YOUR NAME> with your name."
   ]
  },
  {
   "cell_type": "code",
   "execution_count": null,
   "metadata": {
    "id": "JlU3AfYG_BtN"
   },
   "outputs": [],
   "source": [
    "# Push artefact to GCP\n",
    "# !gsutil cp model/<.sav model file> gs://tom-seldon-examples/datareply-workshop/models/<YOUR NAME>/<MODEL TYPE>/model.joblib\n",
    "!gsutil cp models/lr/model.joblib gs://tom-seldon-examples/datareply-workshop/models/sgreaves/lr/model.joblib"
   ]
  },
  {
   "cell_type": "markdown",
   "metadata": {
    "id": "DlrAixGMA_Hs"
   },
   "source": [
    "### Deploy models to Seldon"
   ]
  },
  {
   "cell_type": "markdown",
   "metadata": {
    "id": "bS8XO97eBMGF"
   },
   "source": [
    "We can now deploy our model to the dedicated Seldon Deploy cluster which we have configured for this workshop. To do so we will interact with the Seldon Deploy SDK and deploy our model using that.\n",
    "\n",
    "First, setting up the configuration and authentication required to access the cluster. Make sure to fill in the SD_IP variable to be the same as the cluster you are using."
   ]
  },
  {
   "cell_type": "code",
   "execution_count": null,
   "metadata": {
    "id": "FOCjkhaIBtVF"
   },
   "outputs": [],
   "source": [
    "SD_IP = \"139.59.203.129\"\n",
    "\n",
    "config = Configuration()\n",
    "config.host = f\"http://{SD_IP}/seldon-deploy/api/v1alpha1\"\n",
    "config.oidc_client_id = \"sd-api\"\n",
    "config.oidc_server = f\"http://{SD_IP}/auth/realms/deploy-realm\"\n",
    "\n",
    "def auth():\n",
    "    auth = OIDCAuthenticator(config)\n",
    "    config.access_token = auth.authenticate(\"admin@seldon.io\", \"12341234\")\n",
    "    api_client = ApiClient(config)\n",
    "    return api_client"
   ]
  },
  {
   "cell_type": "code",
   "execution_count": null,
   "metadata": {
    "id": "ajKYVfyhkOZf"
   },
   "outputs": [],
   "source": [
    "### edit the following explanation ###"
   ]
  },
  {
   "cell_type": "markdown",
   "metadata": {
    "id": "V37sraULkOZf"
   },
   "source": [
    "Now we have configured the IP correctly as well as setup our authentication function we can desrcibe the deployment we would like to create.\n",
    "\n",
    "You will need to fill in the DEPLOYMENT_NAME, NAMESPACE, and the MODEL_LOCATION, the rest of the deployment description has been templated for you.\n",
    "\n",
    "For the MODEL_LOCATION you do not need to specify the path all the way up to model.bst e.g. if you saved your classifier under gs://tom-seldon-examples/my-workshop/tom/model.bst your MODEL_LOCATION should be gs://tom-seldon-examples/my-workshop/tom and Seldon will automatically pick up the classifier artifact stored there.\n",
    "\n",
    "You will need to create a unique deployment name. A good example format would be <YOUR NAME> + <MODEL> so \"sgreaveslogreg\" in my case (be careful not to use any upper-case letters or other characters like \"_\". We will also need to specify our model_location which needs to be the folder we pushed our model.joblib file to."
   ]
  },
  {
   "cell_type": "code",
   "execution_count": null,
   "metadata": {},
   "outputs": [],
   "source": [
    "DEPLOYMENT_NAME = \"sgreaveslogreg\"\n",
    "MODEL_LOCATION = \"gs://tom-seldon-examples/datareply-workshop/models/sgreaves/lr\""
   ]
  },
  {
   "cell_type": "code",
   "execution_count": null,
   "metadata": {
    "id": "E7gHzz9JBwLZ"
   },
   "outputs": [],
   "source": [
    "NAMESPACE = \"test\"\n",
    "\n",
    "PREPACKAGED_SERVER = \"SKLEARN_SERVER\"\n",
    "\n",
    "CPU_REQUESTS = \"1\"\n",
    "MEMORY_REQUESTS = \"1Gi\"\n",
    "\n",
    "CPU_LIMITS = \"1\"\n",
    "MEMORY_LIMITS = \"1Gi\"\n",
    "\n",
    "mldeployment = {\n",
    "    \"kind\": \"SeldonDeployment\",\n",
    "    \"metadata\": {\n",
    "        \"name\": DEPLOYMENT_NAME,\n",
    "        \"namespace\": NAMESPACE,\n",
    "        \"labels\": {\n",
    "            \"fluentd\": \"true\"\n",
    "        }\n",
    "    },\n",
    "    \"apiVersion\": \"machinelearning.seldon.io/v1alpha2\",\n",
    "    \"spec\": {\n",
    "        \"name\": DEPLOYMENT_NAME,\n",
    "        \"annotations\": {\n",
    "            \"seldon.io/engine-seldon-log-messages-externally\": \"true\"\n",
    "        },\n",
    "        \"protocol\": \"seldon\",\n",
    "        \"transport\": \"rest\",\n",
    "        \"predictors\": [\n",
    "            {\n",
    "                \"componentSpecs\": [\n",
    "                    {\n",
    "                        \"spec\": {\n",
    "                            \"containers\": [\n",
    "                                {\n",
    "                                    \"name\": f\"{DEPLOYMENT_NAME}-container\",\n",
    "                                    \"resources\": {\n",
    "                                        \"requests\": {\n",
    "                                            \"cpu\": CPU_REQUESTS,\n",
    "                                            \"memory\": MEMORY_REQUESTS\n",
    "                                        },\n",
    "                                        \"limits\": {\n",
    "                                            \"cpu\": CPU_LIMITS,\n",
    "                                            \"memory\": MEMORY_LIMITS\n",
    "                                        }\n",
    "                                    }\n",
    "                                }\n",
    "                            ]\n",
    "                        }\n",
    "                    }\n",
    "                ],\n",
    "                \"name\": \"default\",\n",
    "                \"replicas\": 1,\n",
    "                \"traffic\": 100,\n",
    "                \"graph\": {\n",
    "                    \"implementation\": PREPACKAGED_SERVER,\n",
    "                    \"modelUri\": MODEL_LOCATION,\n",
    "                    \"name\": f\"{DEPLOYMENT_NAME}-container\",\n",
    "                    \"endpoint\": {\n",
    "                        \"type\": \"REST\"\n",
    "                    },\n",
    "                    \"parameters\": [],\n",
    "                    \"children\": [],\n",
    "                    \"logger\": {\n",
    "                        \"mode\": \"all\"\n",
    "                    }\n",
    "                }\n",
    "            }\n",
    "        ]\n",
    "    },\n",
    "    \"status\": {}\n",
    "}"
   ]
  },
  {
   "cell_type": "markdown",
   "metadata": {
    "id": "4SXGONbMbSFW"
   },
   "source": [
    "We can now invoke the `SeldonDeploymentsApi` and create a new Seldon Deployment. \n",
    "\n",
    "Time for you to get your hands dirty. You will use the Seldon Deploy SDK to create a new Seldon deployment. You can find the reference documentation [here](https://github.com/SeldonIO/seldon-deploy-sdk/blob/master/python/README.md). "
   ]
  },
  {
   "cell_type": "code",
   "execution_count": null,
   "metadata": {
    "id": "EeKpuObJCHA3"
   },
   "outputs": [],
   "source": [
    "deployment_api = SeldonDeploymentsApi(auth())\n",
    "deployment_api.create_seldon_deployment(namespace=NAMESPACE, mldeployment=mldeployment)"
   ]
  },
  {
   "cell_type": "markdown",
   "metadata": {},
   "source": [
    "Our model is now running as a fully fledged microservice. We can test it by sending a request: "
   ]
  },
  {
   "cell_type": "code",
   "execution_count": null,
   "metadata": {},
   "outputs": [],
   "source": [
    "# test model with this request: \n",
    "{\"data\": {\"ndarray\": [[169.44666667,19.82924814,22.28823229, 28.95207932,23.49411811,5.43632215]]}}"
   ]
  },
  {
   "cell_type": "markdown",
   "metadata": {
    "id": "rjspFW0AFlHS"
   },
   "source": [
    "## Explainer\n",
    "\n",
    "Next, we shall train an explainer to glean deeper insights into the decisions being made by our model. \n",
    "\n",
    "We will make use of the Anchors algorithm, which has a [production grade implementation available](https://docs.seldon.io/projects/alibi/en/stable/methods/Anchors.html) using the Seldon Alibi Explain library. \n",
    "\n",
    "The first step will be to write a simple prediction function which the explainer can call in order to query our logistic regression model."
   ]
  },
  {
   "cell_type": "code",
   "execution_count": null,
   "metadata": {
    "id": "BMowappmHKz1"
   },
   "outputs": [],
   "source": [
    "clf = lr"
   ]
  },
  {
   "cell_type": "code",
   "execution_count": null,
   "metadata": {
    "id": "L8CQR0mjC6gQ"
   },
   "outputs": [],
   "source": [
    "predict_fn = lambda x: clf.predict(x)"
   ]
  },
  {
   "cell_type": "markdown",
   "metadata": {},
   "source": [
    "We then initialise our Anchor explainer, using the AnchorTabular flavour provided by Alibi due to our data modality."
   ]
  },
  {
   "cell_type": "code",
   "execution_count": null,
   "metadata": {
    "id": "zNLvR53vG7Yb"
   },
   "outputs": [],
   "source": [
    "explainer = AnchorTabular(predict_fn, columns)"
   ]
  },
  {
   "cell_type": "code",
   "execution_count": null,
   "metadata": {},
   "outputs": [],
   "source": [
    "# Dataset is imbalanced - is this a problem?\n",
    "# unique, counts = np.unique(Y_test, return_counts=True)\n",
    "# print(np.asarray((unique, counts)).T)"
   ]
  },
  {
   "cell_type": "code",
   "execution_count": null,
   "metadata": {
    "id": "RQc3nvlIHofS"
   },
   "outputs": [],
   "source": [
    "explainer.fit(X_train, disc_perc=(25, 50, 75))"
   ]
  },
  {
   "cell_type": "markdown",
   "metadata": {},
   "source": [
    "We can now test our explainer by generating a prediction."
   ]
  },
  {
   "cell_type": "code",
   "execution_count": null,
   "metadata": {
    "id": "8AgHZXu3Hr52"
   },
   "outputs": [],
   "source": [
    "idx = 0\n",
    "print('Prediction: ', class_names[explainer.predictor(X_test[idx].reshape(1, -1))[0]])"
   ]
  },
  {
   "cell_type": "code",
   "execution_count": null,
   "metadata": {},
   "outputs": [],
   "source": [
    "## explain precision and coverage "
   ]
  },
  {
   "cell_type": "code",
   "execution_count": null,
   "metadata": {
    "id": "_FD98jlOI15c"
   },
   "outputs": [],
   "source": [
    "explanation = explainer.explain(X_test[idx], threshold=0.9)\n",
    "print('Anchor: %s' % (' AND '.join(explanation.anchor)))\n",
    "print('Precision: %.2f' % explanation.precision)\n",
    "print('Coverage: %.2f' % explanation.coverage)"
   ]
  },
  {
   "cell_type": "code",
   "execution_count": null,
   "metadata": {},
   "outputs": [],
   "source": [
    "## explain what dill is"
   ]
  },
  {
   "cell_type": "code",
   "execution_count": null,
   "metadata": {
    "id": "G6LUjpMSI-BP"
   },
   "outputs": [],
   "source": [
    "with open(\"models/lr/explainer.dill\", \"wb\") as model_f:\n",
    "        dill.dump(explainer, model_f)"
   ]
  },
  {
   "cell_type": "code",
   "execution_count": null,
   "metadata": {
    "id": "8JVMBQg2kOZi"
   },
   "outputs": [],
   "source": [
    "### explainers are quite large files, instead of pushing to GCP we'll skip that step and deploy a trained \n",
    "### explainer already in storage "
   ]
  },
  {
   "cell_type": "markdown",
   "metadata": {
    "id": "ZG6kWCMDOHsR"
   },
   "source": [
    "## Deployment\n",
    "\n",
    "We can now deploy our explainer alongside our model. First we define the explainer configuration. "
   ]
  },
  {
   "cell_type": "code",
   "execution_count": null,
   "metadata": {
    "id": "OaYB2x55kOZj"
   },
   "outputs": [],
   "source": [
    "### train an explainer on the new dataset in a Python 3.6.1 environment then push to GCP and test deployment."
   ]
  },
  {
   "cell_type": "code",
   "execution_count": null,
   "metadata": {
    "id": "wTq-3i5XMZDh"
   },
   "outputs": [],
   "source": [
    "EXPLAINER_TYPE = \"AnchorTabular\"\n",
    "EXPLAINER_URI = \"gs://tom-seldon-examples/datareply-workshop/pretrained/lr\"\n",
    "\n",
    "explainer_spec = {\n",
    "                    \"type\": EXPLAINER_TYPE,\n",
    "                    \"modelUri\": EXPLAINER_URI,\n",
    "                    \"containerSpec\": {\n",
    "                        \"name\": \"\",\n",
    "                        \"resources\": {}\n",
    "                    }\n",
    "                }"
   ]
  },
  {
   "cell_type": "code",
   "execution_count": null,
   "metadata": {
    "id": "Gr7cIsDPOZ0T"
   },
   "outputs": [],
   "source": [
    "mldeployment['spec']['predictors'][0]['explainer'] = explainer_spec\n",
    "mldeployment"
   ]
  },
  {
   "cell_type": "code",
   "execution_count": null,
   "metadata": {
    "id": "ZEE1Ng-IOeR_"
   },
   "outputs": [],
   "source": [
    "deployment_api = SeldonDeploymentsApi(auth())\n",
    "deployment_api.create_seldon_deployment(namespace=NAMESPACE, mldeployment=mldeployment)"
   ]
  },
  {
   "cell_type": "markdown",
   "metadata": {
    "id": "hmI8brYLieU-"
   },
   "source": [
    "## Outlier Detection \n"
   ]
  },
  {
   "cell_type": "code",
   "execution_count": null,
   "metadata": {
    "id": "oTGrmaq6kOZj"
   },
   "outputs": [],
   "source": [
    "### Provide explanations on all decisions made here. "
   ]
  },
  {
   "cell_type": "markdown",
   "metadata": {
    "id": "mBPpQneC-cqr"
   },
   "source": [
    "## Method\n",
    "\n",
    "The Variational Auto-Encoder ([VAE](https://arxiv.org/abs/1312.6114)) outlier detector is first trained on a batch of unlabeled, but normal (*inlier*) data. Unsupervised training is desireable since labeled data is often scarce. The VAE detector tries to reconstruct the input it receives. If the input data cannot be reconstructed well, the reconstruction error is high and the data can be flagged as an outlier. The reconstruction error is either measured as the mean squared error (MSE) between the input and the reconstructed instance or as the probability that both the input and the reconstructed instance are generated by the same process."
   ]
  },
  {
   "cell_type": "code",
   "execution_count": null,
   "metadata": {
    "id": "3qWd7Y0H-8H-"
   },
   "outputs": [],
   "source": [
    "normal_batch = create_outlier_batch(X_train, Y_train, n_samples=2886, perc_outlier=0)\n",
    "X_train, y_train = normal_batch.data.astype('float'), normal_batch.target\n",
    "print(X_train.shape, y_train.shape)\n",
    "print('{}% outliers'.format(100 * y_train.mean()))"
   ]
  },
  {
   "cell_type": "code",
   "execution_count": null,
   "metadata": {
    "id": "bos3TdDbDl1A"
   },
   "outputs": [],
   "source": [
    "mean, stdev = X_train.mean(axis=0), X_train.std(axis=0)"
   ]
  },
  {
   "cell_type": "code",
   "execution_count": null,
   "metadata": {
    "id": "TBtHhDH8DnFo"
   },
   "outputs": [],
   "source": [
    "X_train = (X_train - mean) / stdev"
   ]
  },
  {
   "cell_type": "markdown",
   "metadata": {
    "id": "ncuCKhNiDto3"
   },
   "source": [
    "## Load or define outlier detector\n",
    "\n",
    "The pretrained outlier and adversarial detectors used in the example notebooks can be found [here](https://console.cloud.google.com/storage/browser/seldon-models/alibi-detect). You can use the built-in ```fetch_detector``` function which saves the pre-trained models in a local directory ```filepath``` and loads the detector. Alternatively, you can train a detector from scratch:"
   ]
  },
  {
   "cell_type": "code",
   "execution_count": null,
   "metadata": {
    "id": "Gwx_xqTwDp7O"
   },
   "outputs": [],
   "source": [
    "load_outlier_detector = False"
   ]
  },
  {
   "cell_type": "code",
   "execution_count": null,
   "metadata": {
    "id": "PSvBvODuDxtb"
   },
   "outputs": [],
   "source": [
    "filepath = '/content/models/OutlierVAE'\n",
    "if not os.path.exists(filepath):\n",
    "  os.mkdir(filepath)"
   ]
  },
  {
   "cell_type": "code",
   "execution_count": null,
   "metadata": {
    "id": "UZewHIB-EBkz"
   },
   "outputs": [],
   "source": [
    "# define model, initialize, train and save outlier detector\n",
    "    \n",
    "n_features = X_train.shape[1]\n",
    "latent_dim = 2\n",
    "    \n",
    "encoder_net = tf.keras.Sequential(\n",
    "    [\n",
    "     InputLayer(input_shape=(n_features,)),\n",
    "     Dense(20, activation=tf.nn.relu),\n",
    "     Dense(15, activation=tf.nn.relu),\n",
    "     Dense(7, activation=tf.nn.relu)\n",
    "     ])\n",
    "\n",
    "decoder_net = tf.keras.Sequential(\n",
    "    [\n",
    "     InputLayer(input_shape=(latent_dim,)),\n",
    "     Dense(7, activation=tf.nn.relu),\n",
    "     Dense(15, activation=tf.nn.relu),\n",
    "     Dense(20, activation=tf.nn.relu),\n",
    "     Dense(n_features, activation=None)\n",
    "     ])\n",
    "    \n",
    "# initialize outlier detector\n",
    "od = OutlierVAE(threshold=None,  # threshold for outlier score\n",
    "                score_type='mse',  # use MSE of reconstruction error for outlier detection\n",
    "                encoder_net=encoder_net,  # can also pass VAE model instead\n",
    "                decoder_net=decoder_net,  # of separate encoder and decoder\n",
    "                latent_dim=latent_dim,\n",
    "                samples=5)\n",
    "# train\n",
    "od.fit(X_train,\n",
    "       loss_fn=elbo,\n",
    "       cov_elbo=dict(sim=.01),\n",
    "       epochs=30,\n",
    "       verbose=True)\n",
    "\n",
    "# save the trained outlier detector\n",
    "save_detector(od, filepath)"
   ]
  },
  {
   "cell_type": "markdown",
   "metadata": {
    "id": "EGL9gc6UGMXo"
   },
   "source": [
    "The warning tells us we still need to set the outlier threshold. This can be done with the `infer_threshold` method. We need to pass a batch of instances and specify what percentage of those we consider to be normal via `threshold_perc`. Let's assume we have some data which we know contains around 5% outliers. The percentage of outliers can be set with `perc_outlier` in the `create_outlier_batch` function."
   ]
  },
  {
   "cell_type": "code",
   "execution_count": null,
   "metadata": {
    "id": "L8GbfajFGCZV"
   },
   "outputs": [],
   "source": [
    "np.random.seed(0)\n",
    "perc_outlier = 5\n",
    "threshold_batch = create_outlier_batch(X_train, Y_train, n_samples=100, perc_outlier=perc_outlier)\n",
    "X_threshold, y_threshold = threshold_batch.data.astype('float'), threshold_batch.target\n",
    "X_threshold = (X_threshold - mean) / stdev\n",
    "print('{}% outliers'.format(100 * y_threshold.mean()))"
   ]
  },
  {
   "cell_type": "code",
   "execution_count": null,
   "metadata": {
    "id": "CWKoCcojGaEI"
   },
   "outputs": [],
   "source": [
    "od.infer_threshold(X_threshold, threshold_perc=100-perc_outlier)\n",
    "print('New threshold: {}'.format(od.threshold))"
   ]
  },
  {
   "cell_type": "code",
   "execution_count": null,
   "metadata": {
    "id": "iw60AftDGcih"
   },
   "outputs": [],
   "source": [
    "save_detector(od, filepath)"
   ]
  },
  {
   "cell_type": "markdown",
   "metadata": {
    "id": "VMMHiGZXGnQ3"
   },
   "source": [
    "## Detect outliers\n",
    "\n",
    "We now generate a batch of data with 10% outliers and detect the outliers in the batch. \n"
   ]
  },
  {
   "cell_type": "code",
   "execution_count": null,
   "metadata": {
    "id": "0IK5V4PsxeEd"
   },
   "outputs": [],
   "source": [
    "### provide more explanation here of what we're doing and why"
   ]
  },
  {
   "cell_type": "code",
   "execution_count": null,
   "metadata": {
    "id": "-MtuBEz8Ggqp"
   },
   "outputs": [],
   "source": [
    "np.random.seed(1)\n",
    "outlier_batch = create_outlier_batch(X_train, Y_train, n_samples=2886, perc_outlier=10)\n",
    "X_outlier, y_outlier = outlier_batch.data.astype('float'), outlier_batch.target\n",
    "X_outlier = (X_outlier - mean) / stdev\n",
    "print(X_outlier.shape, y_outlier.shape)\n",
    "print('{}% outliers'.format(100 * y_outlier.mean()))"
   ]
  },
  {
   "cell_type": "markdown",
   "metadata": {
    "id": "lQayaNVgGwWn"
   },
   "source": [
    "Predict outliers:"
   ]
  },
  {
   "cell_type": "code",
   "execution_count": null,
   "metadata": {
    "id": "xdOja4ZDGtw9"
   },
   "outputs": [],
   "source": [
    "od_preds = od.predict(X_outlier,\n",
    "                      outlier_type='instance',    # use 'feature' or 'instance' level\n",
    "                      return_feature_score=True,  # scores used to determine outliers\n",
    "                      return_instance_score=True)\n",
    "print(list(od_preds['data'].keys()))"
   ]
  },
  {
   "cell_type": "markdown",
   "metadata": {
    "id": "pNDr5nwpG20x"
   },
   "source": [
    "## Display results"
   ]
  },
  {
   "cell_type": "code",
   "execution_count": null,
   "metadata": {
    "id": "FOP_-6xvG0Ll"
   },
   "outputs": [],
   "source": [
    "labels = outlier_batch.target_names\n",
    "y_pred = od_preds['data']['is_outlier']\n",
    "f1 = f1_score(y_outlier, y_pred)\n",
    "print('F1 score: {:.4f}'.format(f1))\n",
    "cm = confusion_matrix(y_outlier, y_pred)\n",
    "df_cm = pd.DataFrame(cm, index=labels, columns=labels)\n",
    "sns.heatmap(df_cm, annot=True, cbar=True, linewidths=.5)\n",
    "plt.show()"
   ]
  },
  {
   "cell_type": "code",
   "execution_count": null,
   "metadata": {
    "id": "Iv3kkWnZINJl"
   },
   "outputs": [],
   "source": [
    "plot_instance_score(od_preds, y_outlier, labels, od.threshold)"
   ]
  },
  {
   "cell_type": "code",
   "execution_count": null,
   "metadata": {
    "id": "5UbNaXO_IShg"
   },
   "outputs": [],
   "source": [
    "roc_data = {'VAE': {'scores': od_preds['data']['instance_score'], 'labels': y_outlier}}\n",
    "plot_roc(roc_data)"
   ]
  },
  {
   "cell_type": "markdown",
   "metadata": {
    "id": "ilQ9JJGUIpVW"
   },
   "source": [
    "## Investigate instance level outlier\n",
    "\n",
    "1.   List item\n",
    "2.   List item\n",
    "\n",
    "\n",
    "\n",
    "We can now take a closer look at some of the individual predictions on `X_outlier`. "
   ]
  },
  {
   "cell_type": "code",
   "execution_count": null,
   "metadata": {
    "id": "n3FlG8qBIu1A"
   },
   "outputs": [],
   "source": [
    "X_recon = od.vae(X_outlier).numpy()  # reconstructed instances by the VAE"
   ]
  },
  {
   "cell_type": "code",
   "execution_count": null,
   "metadata": {
    "id": "K7RR5fEkIyK8"
   },
   "outputs": [],
   "source": [
    "plot_feature_outlier_tabular(od_preds,\n",
    "                             X_outlier,\n",
    "                             X_recon=X_recon,\n",
    "                             threshold=od.threshold,\n",
    "                             instance_ids=None,  # pass a list with indices of instances to display\n",
    "                             max_instances=5,  # max nb of instances to display\n",
    "                             top_n=5,  # only show top_n features ordered by outlier score\n",
    "                             outliers_only=False,  # only show outlier predictions\n",
    "                             feature_names=columns,  # add feature names\n",
    "                             figsize=(20, 30))"
   ]
  },
  {
   "cell_type": "code",
   "execution_count": null,
   "metadata": {
    "id": "efUpXVoKkOZo"
   },
   "outputs": [],
   "source": [
    "### provide a tangiable explained example of an obvious outlier like some large or small mean coupled with high spend in \n",
    "### a single category."
   ]
  },
  {
   "cell_type": "code",
   "execution_count": null,
   "metadata": {
    "id": "PHckSdOuxihv"
   },
   "outputs": [],
   "source": [
    "### Push to GCP and then DEPLOY"
   ]
  },
  {
   "cell_type": "markdown",
   "metadata": {
    "id": "IkG5fKciIazt"
   },
   "source": [
    "## Drift Detection\n",
    "\n",
    "### Method\n",
    "\n",
    "The drift detector applies feature-wise two-sample [Kolmogorov-Smirnov](https://en.wikipedia.org/wiki/Kolmogorov%E2%80%93Smirnov_test) (K-S) tests for the continuous numerical features."
   ]
  },
  {
   "cell_type": "markdown",
   "metadata": {
    "id": "J3FRyfX1KQEO"
   },
   "source": [
    "We split the data in a reference set and 2 test sets on which we test the data drift:"
   ]
  },
  {
   "cell_type": "code",
   "execution_count": null,
   "metadata": {
    "id": "V7SCT9OlIZGP"
   },
   "outputs": [],
   "source": [
    "n_ref = 900\n",
    "n_test = 900\n",
    "\n",
    "X_ref, X_t0, X_t1 = X_train[:n_ref], X_train[n_ref:n_ref + n_test], X_train[n_ref + n_test:n_ref + 2 * n_test]\n",
    "X_ref.shape, X_t0.shape, X_t1.shape"
   ]
  },
  {
   "cell_type": "markdown",
   "metadata": {
    "id": "anEOqBuOKWWR"
   },
   "source": [
    "### Detect drift\n",
    "\n",
    "Initialize the detector:"
   ]
  },
  {
   "cell_type": "code",
   "execution_count": null,
   "metadata": {
    "id": "J63Sj7bSkOZo"
   },
   "outputs": [],
   "source": [
    "# Where are we specifying batch size - does this play a part in the training?"
   ]
  },
  {
   "cell_type": "code",
   "execution_count": null,
   "metadata": {
    "id": "9wofaIs0KM3u"
   },
   "outputs": [],
   "source": [
    "cd = TabularDrift(X_ref, p_val=.05)"
   ]
  },
  {
   "cell_type": "code",
   "execution_count": null,
   "metadata": {
    "id": "KQVFSz1-K0Da"
   },
   "outputs": [],
   "source": [
    "preds = cd.predict(X_t0)\n",
    "labels = ['No!', 'Yes!']\n",
    "print('Drift? {}'.format(labels[preds['data']['is_drift']]))"
   ]
  },
  {
   "cell_type": "code",
   "execution_count": null,
   "metadata": {
    "id": "vNeHKA7eK5oL"
   },
   "outputs": [],
   "source": [
    "for f in range(cd.n_features):\n",
    "    stat = 'K-S'\n",
    "    fname = columns[f]\n",
    "    stat_val, p_val = preds['data']['distance'][f], preds['data']['p_val'][f]\n",
    "    print(f'{fname} -- {stat} {stat_val:.3f} -- p-value {p_val:.3f}')"
   ]
  },
  {
   "cell_type": "markdown",
   "metadata": {
    "id": "CVHrtyl2LekN"
   },
   "source": [
    "None of the feature-level p-values are below the threshold."
   ]
  },
  {
   "cell_type": "code",
   "execution_count": null,
   "metadata": {
    "id": "9M84FTiNLVCB"
   },
   "outputs": [],
   "source": [
    "preds['data']['threshold']"
   ]
  },
  {
   "cell_type": "markdown",
   "metadata": {
    "id": "NX2S4WAFLmjr"
   },
   "source": [
    "If you are interested in individual feature-wise drift, this is also possible:"
   ]
  },
  {
   "cell_type": "code",
   "execution_count": null,
   "metadata": {
    "id": "D_G38h4OLr8X"
   },
   "outputs": [],
   "source": [
    "fpreds = cd.predict(X_t0, drift_type='feature')"
   ]
  },
  {
   "cell_type": "code",
   "execution_count": null,
   "metadata": {
    "id": "F5rxryKxLtNx"
   },
   "outputs": [],
   "source": [
    "for f in range(cd.n_features):\n",
    "    stat = 'K-S'\n",
    "    fname = columns[f]\n",
    "    is_drift = fpreds['data']['is_drift'][f]\n",
    "    stat_val, p_val = fpreds['data']['distance'][f], fpreds['data']['p_val'][f]\n",
    "    print(f'{fname} -- Drift? {labels[is_drift]} -- {stat} {stat_val:.3f} -- p-value {p_val:.3f}')"
   ]
  },
  {
   "cell_type": "code",
   "execution_count": null,
   "metadata": {
    "id": "ddrgyHpoL2ZR"
   },
   "outputs": [],
   "source": [
    "preds = cd.predict(X_t1)\n",
    "labels = ['No!', 'Yes!']\n",
    "print('Drift? {}'.format(labels[preds['data']['is_drift']]))"
   ]
  },
  {
   "cell_type": "markdown",
   "metadata": {
    "id": "el-goYR5L8nD"
   },
   "source": [
    "We can again investigate the individual features:"
   ]
  },
  {
   "cell_type": "code",
   "execution_count": null,
   "metadata": {
    "id": "DS_vpe8XMB2K"
   },
   "outputs": [],
   "source": [
    "for f in range(cd.n_features):\n",
    "    stat = 'K-S'\n",
    "    fname = columns[f]\n",
    "    is_drift = (preds['data']['p_val'][f] < preds['data']['threshold']).astype(int)\n",
    "    stat_val, p_val = preds['data']['distance'][f], preds['data']['p_val'][f]\n",
    "    print(f'{fname} -- Drift? {labels[is_drift]} -- {stat} {stat_val:.3f} -- p-value {p_val:.3f}')"
   ]
  },
  {
   "cell_type": "code",
   "execution_count": null,
   "metadata": {
    "id": "VbYRXNBskOZq"
   },
   "outputs": [],
   "source": [
    "### add a tangiable drift example! "
   ]
  },
  {
   "cell_type": "code",
   "execution_count": null,
   "metadata": {},
   "outputs": [],
   "source": [
    "filepath = 'models/DriftDetector'\n",
    "if not os.path.exists(filepath):\n",
    "  os.mkdir(filepath)\n",
    "\n",
    "save_detector(cd, filepath)"
   ]
  },
  {
   "cell_type": "code",
   "execution_count": null,
   "metadata": {
    "id": "nTze5itgxrjN"
   },
   "outputs": [],
   "source": [
    "### Push to GCP and Deploy \n",
    "!gsutil cp -r models/DriftDetector gs://tom-seldon-examples/datareply-workshop/sgreaves/lr/drift"
   ]
  },
  {
   "cell_type": "code",
   "execution_count": null,
   "metadata": {},
   "outputs": [],
   "source": [
    "DRIFT_DETECTOR_TYPE = \"AnchorTabular\"\n",
    "EXPLAINER_URI = \"gs://tom-seldon-examples/datareply-workshop/sgreaves/lr/drift\"\n",
    "\n",
    "drift_detector_spec = {\n",
    "                    \"type\": EXPLAINER_TYPE,\n",
    "                    \"modelUri\": EXPLAINER_URI,\n",
    "                    \"containerSpec\": {\n",
    "                        \"name\": \"\",\n",
    "                        \"resources\": {}\n",
    "                    }\n",
    "                }\n",
    "\n",
    "mldeployment['spec']['predictors'][0]['drift-detector'] = drift_detector_spec\n",
    "mldeployment"
   ]
  }
 ],
 "metadata": {
  "colab": {
   "collapsed_sections": [
    "hmI8brYLieU-"
   ],
   "name": "retail_workshop_notebook.ipynb",
   "provenance": [],
   "toc_visible": true
  },
  "kernelspec": {
   "display_name": "Python 3",
   "language": "python",
   "name": "python3"
  },
  "language_info": {
   "codemirror_mode": {
    "name": "ipython",
    "version": 3
   },
   "file_extension": ".py",
   "mimetype": "text/x-python",
   "name": "python",
   "nbconvert_exporter": "python",
   "pygments_lexer": "ipython3",
   "version": "3.6.13"
  }
 },
 "nbformat": 4,
 "nbformat_minor": 1
}
